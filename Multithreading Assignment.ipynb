{
 "cells": [
  {
   "cell_type": "markdown",
   "id": "821cfcb5",
   "metadata": {},
   "source": [
    "Q-1 what is multithreading in python? why is it used? Name the module used to handle threads in python\n",
    "Ans:Multithreading in Python refers to a technique of running multiple threads (smaller sub-programs) simultaneously within a single process. Each thread runs independently and shares the same resources, such as memory, with the other threads within the process.\n",
    "\n",
    "Multithreading is used to increase the efficiency of a program by allowing it to perform multiple tasks concurrently, thus reducing the time required to complete the tasks. It is especially useful in I/O-bound and network-bound applications where threads can be used to perform blocking operations, such as reading from or writing to a file or communicating with a remote server, without blocking the main program's execution.\n",
    "\n",
    "In Python, the threading module is used to handle threads. The module provides a high-level interface for creating and managing threads, as well as synchronization primitives such as locks and semaphores for controlling access to shared resources."
   ]
  },
  {
   "cell_type": "markdown",
   "id": "8920a4c0",
   "metadata": {},
   "source": [
    "Q2-Why threading module is used?Write the use of the following function:\n",
    "    1-Active count\n",
    "    2-Current Thread\n",
    "    3-Enumerate\n",
    "Ans:The threading module in Python is used to implement multithreading. It provides a simple way to create and manage threads in a Python program. The module allows programmers to write concurrent code, which can perform multiple tasks simultaneously, by running independent threads within a single process.\n",
    "\n",
    "The following are the uses of some of the functions provided by the threading module:\n",
    "\n",
    "active_count(): This function returns the number of thread objects that are currently alive. It can be useful to check the number of active threads in a program to monitor the performance of the program and ensure that the threads are not leaking or causing any issues.\n",
    "\n",
    "current_thread(): This function returns a thread object for the current thread that is running the Python interpreter. It can be used to get information about the current thread, such as its name or ID.\n",
    "\n",
    "enumerate(): This function returns a list of all the thread objects that are currently alive in the program. It can be useful to get a list of all the threads that are currently running, and to perform operations on them, such as joining or terminating them."
   ]
  },
  {
   "cell_type": "markdown",
   "id": "d9165d60",
   "metadata": {},
   "source": [
    "Q3-Explain the follwing function:\n",
    "    1-run()\n",
    "    2-start()\n",
    "    3-join()\n",
    "    4-isAlive()\n",
    "Ans:In Python's threading module, there are several important functions that are used to manage threads. Here are explanations of four of these functions:\n",
    "\n",
    "run(): This is the method that is called when a thread starts running. When a thread object is created, it does not immediately start running. Instead, the run() method is defined, which is called when the start() method is called on the thread object.\n",
    "\n",
    "start(): This method starts the thread's activity. It calls the run() method in a separate thread of control, which causes the run() method to run in the background. It returns immediately and the child thread starts running asynchronously.\n",
    "\n",
    "join(): This method blocks the calling thread until the thread whose join() method is called completes execution or is terminated. It is used to wait for the thread to complete its execution before proceeding with the rest of the program.\n",
    "\n",
    "isAlive(): This method returns a Boolean value that indicates whether the thread is currently executing or not. If the thread is still running, it returns True, otherwise it returns False"
   ]
  },
  {
   "cell_type": "code",
   "execution_count": 1,
   "id": "ade6e8a9",
   "metadata": {},
   "outputs": [
    {
     "name": "stdout",
     "output_type": "stream",
     "text": [
      "1 squared is 1\n",
      "2 squared is 4\n",
      "3 squared is 9\n",
      "4 squared is 16\n",
      "5 squared is 25\n",
      "6 squared is 36\n",
      "7 squared is 49\n",
      "8 squared is 64\n",
      "9 squared is 81\n",
      "10 squared is 100\n",
      "1 cubed is 1\n",
      "2 cubed is 8\n",
      "3 cubed is 27\n",
      "4 cubed is 64\n",
      "5 cubed is 125\n",
      "6 cubed is 216\n",
      "7 cubed is 343\n",
      "8 cubed is 512\n",
      "9 cubed is 729\n",
      "10 cubed is 1000\n"
     ]
    }
   ],
   "source": [
    "# Q4-Write a python program to create two thread.Thread one must print the sqares and thread two must print the list of cubes.\n",
    "import threading\n",
    "\n",
    "def print_squares():\n",
    "    for i in range(1, 11):\n",
    "        print(f\"{i} squared is {i ** 2}\")\n",
    "\n",
    "def print_cubes():\n",
    "    for i in range(1, 11):\n",
    "        print(f\"{i} cubed is {i ** 3}\")\n",
    "\n",
    "if __name__ == \"__main__\":\n",
    "    t1 = threading.Thread(target=print_squares)\n",
    "    t2 = threading.Thread(target=print_cubes)\n",
    "\n",
    "    t1.start()\n",
    "    t2.start()\n",
    "\n",
    "    t1.join()\n",
    "    t2.join()\n"
   ]
  },
  {
   "cell_type": "markdown",
   "id": "e57f3bc2",
   "metadata": {},
   "source": [
    "Q5-State the advantages and the disadvantages of the treading\n",
    "Ans:Advantages of threading:\n",
    "\n",
    "Improved performance: Threading allows multiple tasks to run concurrently on a single CPU, which can improve the performance of a program by utilizing idle time that would otherwise go to waste.\n",
    "\n",
    "Responsiveness: Multithreading allows the user interface of an application to remain responsive even while long-running tasks are being performed in the background.\n",
    "\n",
    "Resource sharing: Threads can share resources such as memory and CPU time, which can save memory and make the program more efficient.\n",
    "\n",
    "Modular design: Threading can make it easier to design and maintain a program by breaking it down into smaller, more manageable modules that can be developed and tested independently.\n",
    "\n",
    "Disadvantages of threading:\n",
    "\n",
    "Complexity: Multithreaded programming is more complex than single-threaded programming, and can be difficult to debug and maintain.\n",
    "\n",
    "Synchronization: Synchronization of shared resources can be difficult and error-prone, and can lead to race conditions and deadlocks.\n",
    "\n",
    "Overhead: Thread creation and management can impose overhead on the program, which can reduce performance if not managed carefully.\n",
    "\n",
    "Portability: Multithreading can be less portable than single-threaded programming, as different operating systems may have different thread implementations and behavior.\n",
    "\n",
    "Security: Multithreading can introduce security vulnerabilities if not implemented correctly, as one thread may access and modify the memory or resources of another thread.\n"
   ]
  },
  {
   "cell_type": "markdown",
   "id": "f2ed735c",
   "metadata": {},
   "source": [
    "Q6-Explain deadlocks and race condition\n",
    "Ans:Deadlock and race condition are two common concurrency issues that can occur in multithreaded programs.\n",
    "\n",
    "A deadlock occurs when two or more threads are blocked waiting for each other to release a resource, and neither thread can proceed. For example, consider two threads, A and B, where A holds resource X and is waiting for resource Y, while B holds resource Y and is waiting for resource X. If neither thread releases its resource, both threads will be blocked indefinitely, resulting in a deadlock.\n",
    "\n",
    "A race condition, on the other hand, occurs when two or more threads access a shared resource simultaneously, and the outcome of the program depends on the order in which the threads execute. For example, consider two threads that both read and write to a shared variable. If the order in which the threads execute is not guaranteed, it's possible for one thread to overwrite the changes made by the other thread, resulting in unpredictable behavior.\n",
    "\n",
    "Both deadlocks and race conditions can be difficult to diagnose and debug, as they may occur only under certain conditions and may be difficult to reproduce. To prevent these issues, it's important to use synchronization primitives such as locks and semaphores to coordinate access to shared resources, and to ensure that resources are released in a timely manner. It's also important to avoid holding locks for long periods of time and to use non-blocking algorithms when possible to minimize the risk of deadlock."
   ]
  },
  {
   "cell_type": "code",
   "execution_count": null,
   "id": "30596786",
   "metadata": {},
   "outputs": [],
   "source": []
  },
  {
   "cell_type": "code",
   "execution_count": null,
   "id": "8911c762",
   "metadata": {},
   "outputs": [],
   "source": []
  },
  {
   "cell_type": "code",
   "execution_count": null,
   "id": "e8fe7acd",
   "metadata": {},
   "outputs": [],
   "source": []
  },
  {
   "cell_type": "code",
   "execution_count": null,
   "id": "119f79b7",
   "metadata": {},
   "outputs": [],
   "source": []
  },
  {
   "cell_type": "code",
   "execution_count": null,
   "id": "4806f263",
   "metadata": {},
   "outputs": [],
   "source": []
  },
  {
   "cell_type": "code",
   "execution_count": null,
   "id": "f6a517cb",
   "metadata": {},
   "outputs": [],
   "source": []
  },
  {
   "cell_type": "code",
   "execution_count": null,
   "id": "4b74df2a",
   "metadata": {},
   "outputs": [],
   "source": []
  },
  {
   "cell_type": "code",
   "execution_count": null,
   "id": "79e6bec6",
   "metadata": {},
   "outputs": [],
   "source": []
  },
  {
   "cell_type": "code",
   "execution_count": null,
   "id": "3103d258",
   "metadata": {},
   "outputs": [],
   "source": []
  }
 ],
 "metadata": {
  "kernelspec": {
   "display_name": "Python 3 (ipykernel)",
   "language": "python",
   "name": "python3"
  },
  "language_info": {
   "codemirror_mode": {
    "name": "ipython",
    "version": 3
   },
   "file_extension": ".py",
   "mimetype": "text/x-python",
   "name": "python",
   "nbconvert_exporter": "python",
   "pygments_lexer": "ipython3",
   "version": "3.10.5"
  }
 },
 "nbformat": 4,
 "nbformat_minor": 5
}
